{
 "cells": [
  {
   "cell_type": "code",
   "execution_count": 1,
   "metadata": {},
   "outputs": [],
   "source": [
    "! wget https://dumps.wikimedia.org/ruwiki/20200720/ruwiki-20200720-pages-articles.xml.bz2"
   ]
  },
  {
   "cell_type": "code",
   "execution_count": 2,
   "metadata": {},
   "outputs": [],
   "source": [
    "import csv\n",
    "from lxml import etree as et\n",
    "from bz2file import BZ2File\n",
    "i = 0\n",
    "index = 0\n",
    "\n",
    "FILENAME = \"Index_words.csv\"\n",
    " \n",
    "users = [\n",
    "    [\"Index\", \"Word\"],\n",
    "]\n",
    "with open(FILENAME, \"w\", newline=\"\") as file:\n",
    "    writer = csv.writer(file)\n",
    "    writer.writerows(users)\n",
    "path = \"ruwiki-20200720-pages-articles.xml.bz2\"\n",
    "with BZ2File(path) as xml_file:\n",
    "    parser = et.iterparse(xml_file, events=('end',))\n",
    "    for events, elem in parser:\n",
    "  \n",
    "        if elem.tag == \"{http://www.mediawiki.org/xml/export-0.10/}title\":\n",
    "#             print(elem.text, index)\n",
    "            with open(FILENAME, \"a\", newline=\"\") as file:\n",
    "                writer = csv.writer(file)\n",
    "                writer.writerows([[index, elem.text]])\n",
    "                \n",
    "        if elem.tag == \"{http://www.mediawiki.org/xml/export-0.10/}text\":\n",
    "\n",
    "            file = open(f\"dataset/{index}.txt\", \"w\")\n",
    "            file.write(str(elem.text))\n",
    "            file.close()\n",
    "            index += 1\n",
    "    ## Do some cleaning\n",
    "    # Get rid of that element\n",
    "        elem.clear()\n",
    "        i += 1\n",
    "\n",
    "    # Also eliminate now-empty references from the root node to node        \n",
    "    while elem.getprevious() is not None:\n",
    "        del elem.getparent()[0]"
   ]
  }
 ],
 "metadata": {
  "kernelspec": {
   "display_name": "Python 3",
   "language": "python",
   "name": "python3"
  },
  "language_info": {
   "codemirror_mode": {
    "name": "ipython",
    "version": 3
   },
   "file_extension": ".py",
   "mimetype": "text/x-python",
   "name": "python",
   "nbconvert_exporter": "python",
   "pygments_lexer": "ipython3",
   "version": "3.7.5"
  }
 },
 "nbformat": 4,
 "nbformat_minor": 4
}