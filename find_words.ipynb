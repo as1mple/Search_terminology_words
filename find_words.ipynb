{
 "cells": [
  {
   "cell_type": "code",
   "execution_count": 1,
   "metadata": {},
   "outputs": [],
   "source": [
    "from nltk import sent_tokenize\n",
    "from nltk import word_tokenize\n",
    "from threading import Thread\n",
    "from keybert import KeyBERT\n",
    "from pprint import pprint\n",
    "import pandas as pd\n",
    "import time"
   ]
  },
  {
   "cell_type": "code",
   "execution_count": 2,
   "metadata": {},
   "outputs": [],
   "source": [
    "path_dict = 'demo_test/TITLE.csv'  #  Путь в словарю\n",
    "path_text ='text.txt' # Путь к тексту"
   ]
  },
  {
   "cell_type": "code",
   "execution_count": 3,
   "metadata": {},
   "outputs": [],
   "source": [
    "data = set(map(lambda word: word.lower(), list(pd.read_csv(path_dict).Word)))\n",
    "model = KeyBERT('distilbert-base-nli-mean-tokens')\n",
    "result = {}\n",
    "key_words = set()"
   ]
  },
  {
   "cell_type": "code",
   "execution_count": 4,
   "metadata": {},
   "outputs": [],
   "source": [
    "class FindThread(Thread):\n",
    "    \n",
    "    def __init__(self, word, sent_index, word_index):\n",
    "        Thread.__init__(self)\n",
    "        self.word = word\n",
    "        self.sent_index = sent_index\n",
    "        self.word_index = word_index \n",
    "        \n",
    "    \n",
    "    def run(self):\n",
    "        \n",
    "        if self.word in data:\n",
    "            update_dict(dict_=result, key=self.word, value=[self.sent_index, self.word_index] )"
   ]
  },
  {
   "cell_type": "code",
   "execution_count": 5,
   "metadata": {},
   "outputs": [],
   "source": [
    "def main(text : str, sent_index) -> None:\n",
    "    \n",
    "    for index_word, word in enumerate(word_tokenize(text)):\n",
    "       \n",
    "        thread = FindThread(word, sent_index, index_word)\n",
    "        thread.start()"
   ]
  },
  {
   "cell_type": "code",
   "execution_count": 6,
   "metadata": {},
   "outputs": [],
   "source": [
    "def update_dict(dict_ : dict, key : str, value) -> None:\n",
    "    el = dict_.get(key, 'error')\n",
    "    if el == 'error':\n",
    "        dict_.update({key : [value]})\n",
    "    else:\n",
    "        el.append(value)"
   ]
  },
  {
   "cell_type": "code",
   "execution_count": 7,
   "metadata": {},
   "outputs": [],
   "source": [
    "def common_words(key_words):\n",
    "    return [el for el in key_words if el in data ]"
   ]
  },
  {
   "cell_type": "code",
   "execution_count": 8,
   "metadata": {},
   "outputs": [
    {
     "name": "stdout",
     "output_type": "stream",
     "text": [
      "--- 2.5559675693511963 seconds ---\n",
      "--- 2.635148525238037 seconds ---\n",
      "--- 2.685586929321289 seconds ---\n",
      "--- 2.7300939559936523 seconds ---\n",
      "--- 2.7727434635162354 seconds ---\n",
      "--- 2.858961343765259 seconds ---\n",
      "--- 3.0373237133026123 seconds ---\n",
      "{'asset': [[0, 32], [6, 24]],\n",
      " 'beta': [[2, 25]],\n",
      " 'better': [[5, 26], [6, 22]],\n",
      " 'capital': [[1, 24]],\n",
      " 'capitalization': [[5, 6]],\n",
      " 'commodity': [[0, 16]],\n",
      " 'determine': [[0, 5]],\n",
      " 'estimates': [[5, 27]],\n",
      " 'expected': [[1, 15]],\n",
      " 'generate': [[1, 21], [2, 23]],\n",
      " 'get': [[5, 25]],\n",
      " 'independent': [[4, 16]],\n",
      " 'index': [[2, 12], [3, 12]],\n",
      " 'influence': [[0, 26]],\n",
      " 'interest': [[0, 18]],\n",
      " 'many': [[0, 7]],\n",
      " 'market': [[3, 10], [4, 22], [5, 5]],\n",
      " 'model': [[3, 22], [5, 23], [6, 20]],\n",
      " 'movement': [[0, 29]],\n",
      " 'multiple': [[6, 17]],\n",
      " 'named': [[6, 10]],\n",
      " 'often': [[0, 2]],\n",
      " 'particular': [[0, 21], [2, 28]],\n",
      " 'premium': [[4, 24]],\n",
      " 'price': [[0, 13], [0, 28]],\n",
      " 'project': [[1, 13]],\n",
      " 'question': [[4, 6]],\n",
      " 'regression': [[1, 6], [6, 19]],\n",
      " 'relation': [[3, 7]],\n",
      " 'return': [[4, 1]],\n",
      " 'risk': [[3, 5], [4, 23]],\n",
      " 'slope': [[3, 18]],\n",
      " 'specific': [[0, 8]],\n",
      " 'stock': [[2, 1], [2, 29], [3, 3], [4, 4], [5, 9]],\n",
      " 'stocks': [[1, 18]],\n",
      " 'used': [[0, 3]],\n",
      " 'valuation': [[5, 11]],\n",
      " 'variable': [[4, 11], [4, 17]]}\n"
     ]
    }
   ],
   "source": [
    "with open(path_text, 'r') as code_book:\n",
    "        sent_index = 0\n",
    "        start_time = time.time()\n",
    "        for sent in sent_tokenize(code_book.read()):\n",
    "            \n",
    "            try:\n",
    "                tmp = model.extract_keywords(sent.lower(), keyphrase_length=1, use_maxsum=True)   \n",
    "                key_words = key_words.union(set(tmp))\n",
    "                \n",
    "            except Exception as e:\n",
    "                e = e\n",
    "                \n",
    "            main(sent, sent_index)\n",
    "            sent_index += 1\n",
    "            print(\"--- %s seconds ---\" % (time.time() - start_time))\n",
    "        \n",
    "        pprint(result)"
   ]
  },
  {
   "cell_type": "code",
   "execution_count": 9,
   "metadata": {},
   "outputs": [
    {
     "data": {
      "text/plain": [
       "['regression',\n",
       " 'asset',\n",
       " 'variable',\n",
       " 'better',\n",
       " 'stock',\n",
       " 'beta',\n",
       " 'price',\n",
       " 'market',\n",
       " 'risk',\n",
       " 'movement',\n",
       " 'premium',\n",
       " 'capital',\n",
       " 'expected',\n",
       " 'stocks',\n",
       " 'independent',\n",
       " 'model',\n",
       " 'project']"
      ]
     },
     "execution_count": 9,
     "metadata": {},
     "output_type": "execute_result"
    }
   ],
   "source": [
    "common_words(key_words=key_words)"
   ]
  }
 ],
 "metadata": {
  "kernelspec": {
   "display_name": "Python 3",
   "language": "python",
   "name": "python3"
  },
  "language_info": {
   "codemirror_mode": {
    "name": "ipython",
    "version": 3
   },
   "file_extension": ".py",
   "mimetype": "text/x-python",
   "name": "python",
   "nbconvert_exporter": "python",
   "pygments_lexer": "ipython3",
   "version": "3.7.5"
  }
 },
 "nbformat": 4,
 "nbformat_minor": 4
}