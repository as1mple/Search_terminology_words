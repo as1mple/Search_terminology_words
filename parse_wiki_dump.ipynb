{
 "cells": [
  {
   "cell_type": "code",
   "execution_count": 1,
   "metadata": {},
   "outputs": [],
   "source": [
    "import gzip\n",
    "import xml.etree.ElementTree as ET"
   ]
  },
  {
   "cell_type": "code",
   "execution_count": 2,
   "metadata": {},
   "outputs": [
    {
     "name": "stdout",
     "output_type": "stream",
     "text": [
      "--2020-10-17 20:11:42--  https://dumps.wikimedia.org/ruwiki/latest/ruwiki-latest-abstract.xml.gz\n",
      "Resolving dumps.wikimedia.org (dumps.wikimedia.org)... 208.80.154.7, 2620:0:861:1:208:80:154:7\n",
      "Connecting to dumps.wikimedia.org (dumps.wikimedia.org)|208.80.154.7|:443... connected.\n",
      "HTTP request sent, awaiting response... 200 OK\n",
      "Length: 267677272 (255M) [application/octet-stream]\n",
      "Saving to: ‘ruwiki-latest-abstract.xml.gz.1’\n",
      "\n",
      "ruwiki-latest-abstr 100%[===================>] 255.28M  1.89MB/s    in 1m 54s  \n",
      "\n",
      "2020-10-17 20:13:38 (2.23 MB/s) - ‘ruwiki-latest-abstract.xml.gz.1’ saved [267677272/267677272]\n",
      "\n"
     ]
    }
   ],
   "source": [
    "!wget https://dumps.wikimedia.org/ruwiki/latest/ruwiki-latest-abstract.xml.gz"
   ]
  },
  {
   "cell_type": "code",
   "execution_count": 3,
   "metadata": {},
   "outputs": [],
   "source": [
    "f = gzip.open('ruwiki-latest-abstract.xml.gz', 'r')\n",
    "file_content = f.read()\n",
    "file_content = file_content.decode('utf-8')\n",
    "f_out = open('file.xml', 'w+')\n",
    "f_out.write(file_content)\n",
    "f.close()\n",
    "f_out.close()"
   ]
  },
  {
   "cell_type": "code",
   "execution_count": 4,
   "metadata": {},
   "outputs": [],
   "source": [
    "result = open('result.txt', 'w')"
   ]
  },
  {
   "cell_type": "code",
   "execution_count": 5,
   "metadata": {},
   "outputs": [],
   "source": [
    "[result.write(str(elem.text) + '/') or\n",
    " elem.clear() \n",
    " for event, elem in ET.iterparse(\"file.xml\", events=(\"start\",\"end\")) if elem.tag == \"title\" and event == \"end\"];"
   ]
  },
  {
   "cell_type": "code",
   "execution_count": 6,
   "metadata": {},
   "outputs": [],
   "source": [
    "result.close()"
   ]
  }
 ],
 "metadata": {
  "kernelspec": {
   "display_name": "Python 3",
   "language": "python",
   "name": "python3"
  },
  "language_info": {
   "codemirror_mode": {
    "name": "ipython",
    "version": 3
   },
   "file_extension": ".py",
   "mimetype": "text/x-python",
   "name": "python",
   "nbconvert_exporter": "python",
   "pygments_lexer": "ipython3",
   "version": "3.7.5"
  }
 },
 "nbformat": 4,
 "nbformat_minor": 4
}
